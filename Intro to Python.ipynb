{
 "cells": [
  {
   "cell_type": "markdown",
   "metadata": {},
   "source": [
    "This is a Jupyter Notebook. We'll be putting our code in here, because it's a great place to experiment and see how the language works. Try it out! Click to put your cursor in the block below (the one that says \"import this\") and press Shift-Enter to run the code."
   ]
  },
  {
   "cell_type": "code",
   "execution_count": null,
   "metadata": {
    "collapsed": false
   },
   "outputs": [],
   "source": [
    "import this\n",
    "\n",
    "# Note: This notebook will mostly use text blocks to write notes about code, but you can always\n",
    "# put notes directly in your code blocks if you start the line with '#'. That's called a \"comment\",\n",
    "# and Python won't try to read it as code."
   ]
  },
  {
   "cell_type": "markdown",
   "metadata": {},
   "source": [
    "Great! Now that you know how to run the code blocks, let's start writing some Python."
   ]
  },
  {
   "cell_type": "markdown",
   "metadata": {},
   "source": [
    "# Variables\n",
    "You can think of variables as labels that we can put on things, so that we can reference them later. Let's look at an example. Here we've put the label `score` on a value, `0`."
   ]
  },
  {
   "cell_type": "code",
   "execution_count": null,
   "metadata": {
    "collapsed": false
   },
   "outputs": [],
   "source": [
    "score = 0\n",
    "print(\"Your score is\", score)"
   ]
  },
  {
   "cell_type": "markdown",
   "metadata": {},
   "source": [
    "Ack! We want a better score than that! Change the score in the code and run the block again (using Shift+Enter). \n",
    "\n",
    "Since variables are just labels, though, we can put them on anything. \"score\" seems like it should be a number, but maybe it could be tracking the answer to the question \"Did the team score?\" In that case, it could look like this:"
   ]
  },
  {
   "cell_type": "code",
   "execution_count": null,
   "metadata": {
    "collapsed": true
   },
   "outputs": [],
   "source": [
    "score = True\n",
    "\n",
    "# Note: as a personal preference, any time there could be ambiguity, I prefer to make variable names longer.\n",
    "# For example:\n",
    "# total_score = 10\n",
    "# team_scored = True\n",
    "# You'll appreciate this when you come back to old code you wrote. Trust me on this one."
   ]
  },
  {
   "cell_type": "markdown",
   "metadata": {},
   "source": [
    "This kind of yes/no value is called a \"boolean\". There are two possible values, True and False. These values have special meaning to Python. This is a good time to note that Python is **case sensitive**, which means that capitalization matters. Let's look at a few ways this could trip you up, and how to fix them. Start by running the next block (remember how?)"
   ]
  },
  {
   "cell_type": "code",
   "execution_count": null,
   "metadata": {
    "collapsed": false
   },
   "outputs": [],
   "source": [
    "score = 10\n",
    "print('Your score is', Score)"
   ]
  },
  {
   "cell_type": "markdown",
   "metadata": {},
   "source": [
    "Oops! We got an error. That might look intimidating the first time you see it, but those errors will soon be your friends. They give you valuable insight into what you need to fix. There are two valuable pieces in this particular error. The first is that it points to the line the notebook was trying to run when the error happened (in this case, the `print()` line). The second is that it tells us what it didn't understand. \n",
    "\n",
    "`NameError: name 'Score' is not defined`\n",
    "\n",
    "This is telling us that the notebook doesn't think we created a variable called \"Score\", but we thought we did! Actually, one is capitalized, and the other isn't, so we only created \"score\" and not \"Score\". Change one of the names so they match, and run the block again.\n",
    "\n",
    "Once you've done that, let's look at another way that case sensitivity often trips us up. Run the next block:"
   ]
  },
  {
   "cell_type": "code",
   "execution_count": null,
   "metadata": {
    "collapsed": false
   },
   "outputs": [],
   "source": [
    "score = true"
   ]
  },
  {
   "cell_type": "markdown",
   "metadata": {},
   "source": [
    "Another error! Now it's telling us that we didn't define `true`, but it didn't complain about that the last time we defined a boolean variable! What's going on here? Well, the special boolean values are `True` and `False`, capitalized exactly that way. So when we tried to define `score` as `true`, Python assumed that `true` was a new variable we were trying to use. Oops! Capitalize `true` in the above block and re-run the code so that you don't get an error. (When it runs successfully, it won't produce any output, so if the error goes away, you've gotten it right.)"
   ]
  },
  {
   "cell_type": "markdown",
   "metadata": {},
   "source": [
    "## Common Variable Types\n",
    "I've mentioned one variable type (boolean), and we've used two types (boolean and integer), but there are a lot more types than that. Here are a few of the most common ones:\n",
    "1. int\n",
    "2. float\n",
    "4. bool\n",
    "5. str\n",
    "6. NoneType\n",
    "7. list\n",
    "8. dict\n",
    "\n",
    "You might be thinking that I got lazy when writing that list, because I didn't bother to write out the words \"integer\", \"boolean\", or \"string\". But I wrote these very intentionally, because these are the way that Python will describe them. Let's take a look. Run the next code block."
   ]
  },
  {
   "cell_type": "code",
   "execution_count": null,
   "metadata": {
    "collapsed": false
   },
   "outputs": [],
   "source": [
    "print(type(1))\n",
    "print(type(1.1))\n",
    "print(type(True))\n",
    "print(type('hello'))\n",
    "print(type(None))\n",
    "print(type([1,2]))\n",
    "print(type({'A': 1}))"
   ]
  },
  {
   "cell_type": "markdown",
   "metadata": {},
   "source": [
    "### Integer\n",
    "Integers are exactly what your high school math teacher told you they are: countable, whole numbers. Integers can be positive or negative. As with any programming language, there is a limit to how large they can get before they overflow, but modern Python allows lots of room for them, so most numbers you'll need to do math with will fit fine. This probably isn't the best choice for something like an ID number or a credit card number, though, where you won't need to do math with it, but it might get really long. Use strings for those.\n",
    "\n",
    "### Float\n",
    "\"Float\" is the computer science word for a decimal number, such as 3.14159 or 2.5.\n",
    "\n",
    "Side note: Be careful when using floats; as with all programming languages, floats in Python are imprecise. They work fine for the vast majority of cases, but there is almost always a tiny difference between the value stored in the variable and the intended value. The difference will be very small, but sometimes it can matter. It's generally considered a bad idea to use floats for storing currency information, for example. A quick google can point you to lots of articles about this if you're curious.\n",
    "\n",
    "### Boolean\n",
    "There are only two things that are boolean values, `True` and `False`.\n",
    "\n",
    "### String\n",
    "A string is a series of characters. A string can be:\n",
    "`'This is a string'`\n",
    "`\"This is a string\"`\n",
    "`'12345'`\n",
    "...etc...\n",
    "\n",
    "### NoneType\n",
    "There is only one value that can be NoneType, which is the special Python value of `None`. This is a value which simply means \"there's nothing here\".\n",
    "\n",
    "### List\n",
    "A list is a collection of values, placed inside brackets. Usually, lists are a collection of one type of things, but anything can go into them, so be careful that you know what you're including."
   ]
  },
  {
   "cell_type": "code",
   "execution_count": null,
   "metadata": {
    "collapsed": true
   },
   "outputs": [],
   "source": [
    "counting_numbers = [1, 2, 3, 4]\n",
    "cities = ['New York', 'Houston', 'Sacramento']\n",
    "test_scores = [95, 87, 98, 79]\n",
    "completely_random_stuff = [7, 'seven', 3.5, True]"
   ]
  },
  {
   "cell_type": "markdown",
   "metadata": {},
   "source": [
    "### Dictionary\n",
    "A dictionary is kind of what it sounds like: we have things we can look up, called \"keys\", and results for each key, called \"values\". Any variable type can be either the key or the value, but every key must have a value and no key can be used twice. Values can be used as many times as you want."
   ]
  },
  {
   "cell_type": "code",
   "execution_count": null,
   "metadata": {
    "collapsed": true
   },
   "outputs": [],
   "source": [
    "my_dict = {\n",
    "    'A': 1,\n",
    "    'B': 2,\n",
    "    'C': 3\n",
    "}\n",
    "other_dict = {\n",
    "    1: 'something',\n",
    "    2: 'something else',\n",
    "    3: 'something',\n",
    "    4: 'something again'\n",
    "}\n",
    "oops_I_mixed_my_keys = {\n",
    "    1: 'first thing',\n",
    "    '2': 'second thing',\n",
    "    3: 'third thing'\n",
    "}"
   ]
  },
  {
   "cell_type": "markdown",
   "metadata": {},
   "source": [
    "Then we can access the values in those dictionaries by looking them up, but be careful to use the keys the way you defined them:"
   ]
  },
  {
   "cell_type": "code",
   "execution_count": null,
   "metadata": {
    "collapsed": false
   },
   "outputs": [],
   "source": [
    "print(my_dict['A'])\n",
    "print(other_dict[2])\n",
    "print(oops_I_mixed_my_keys[2])"
   ]
  },
  {
   "cell_type": "markdown",
   "metadata": {},
   "source": [
    "Any time you try to access something in a dict and it isn't there, you'll see a KeyError. There are a few ways to make sure you don't crash your program, though:"
   ]
  },
  {
   "cell_type": "code",
   "execution_count": null,
   "metadata": {
    "collapsed": false
   },
   "outputs": [],
   "source": [
    "value_of_2 = oops_I_mixed_my_keys.get(2)\n",
    "print(value_of_2)"
   ]
  },
  {
   "cell_type": "code",
   "execution_count": null,
   "metadata": {
    "collapsed": false
   },
   "outputs": [],
   "source": [
    "is_there_a_2 = 2 in oops_I_mixed_my_keys\n",
    "print(is_there_a_2)"
   ]
  },
  {
   "cell_type": "markdown",
   "metadata": {},
   "source": [
    "## Other notes\n",
    "These aren't all the variable types, and there are a lot more things we can do with variables. A few important points for now, though:\n",
    "- Variable names are ways that we can refer back to values we stored.\n",
    "- Variables have different types, and while Python doesn't expect us to tell it what type it is, that means we have to be careful to make sure we're creating the right type."
   ]
  },
  {
   "cell_type": "markdown",
   "metadata": {},
   "source": [
    "# Conditionals\n",
    "Sometimes we want to do different things in different circumstances. An example:"
   ]
  },
  {
   "cell_type": "code",
   "execution_count": null,
   "metadata": {
    "collapsed": false
   },
   "outputs": [],
   "source": [
    "if score > 10: \n",
    "    print(\"That seems like a good score.\")\n",
    "else:\n",
    "    print(\"That score may still be a little low.\")"
   ]
  },
  {
   "cell_type": "markdown",
   "metadata": {},
   "source": [
    "Notice a few things. \"if\" and \"else\" have different styles than the other words (green and bold). That's because they're key words in Python. They have a special meaning and we can't use them for anything else. They do about what we would expect though.\n",
    "\n",
    "Here's the English version of the code above:\n",
    "If the score is more than 10, write \"That seems like a good score.\" Otherwise, write \"That score may still be a little low.\"\n",
    "\n",
    "Another thing you might notice is that the print statements are indented. Python uses indentation to know when a line of code is part of a group and when it isn't. Indentation is very important in Python. Unless you have a specific reason to need a different method of indenting your code, you should use 4 spaces for your indent. That's defined in PEP8, a roughly universal style guide for writing Python code, and so more Python developers will use that than will use anything else. Almost any code editor can be configured so that pressing the `tab` key will create 4 spaces instead, if you'd like to save some keystrokes. Many of them will also handle the indentation automatically in most circumstances.\n",
    "\n",
    "**Write your own \"if\" statement in the block below. Feel free to use the existing \"score\" variable or create a new variable.**"
   ]
  },
  {
   "cell_type": "code",
   "execution_count": null,
   "metadata": {
    "collapsed": true
   },
   "outputs": [],
   "source": []
  },
  {
   "cell_type": "markdown",
   "metadata": {},
   "source": [
    "Did it do what you expected? If not, can you figure out why it did what it did, and change it so it does what you wanted?\n",
    "\n",
    "### elif\n",
    "Another handy tool Python gives us is `elif`. This is just a shortened version of \"else if\". It basically means \"ok, if the previous block didn't apply, try this...\"\n",
    "\n",
    "**Before you run the code below, see if you can guess what it would do for a score of:**\n",
    "- **5**\n",
    "- **15**\n",
    "- **25**\n",
    "- **35**\n",
    "- **10**\n",
    "\n",
    "Once you've made your guesses, set the score variable to each value and see if the results match what you expected!"
   ]
  },
  {
   "cell_type": "code",
   "execution_count": null,
   "metadata": {
    "collapsed": false
   },
   "outputs": [],
   "source": [
    "score = 5\n",
    "if score < 10:\n",
    "    print('Your score is a little low')\n",
    "elif score < 20:\n",
    "    print('Your score is about average')\n",
    "elif score > 30:\n",
    "    print('You have a great score!')"
   ]
  },
  {
   "cell_type": "markdown",
   "metadata": {},
   "source": [
    "# Loops"
   ]
  },
  {
   "cell_type": "markdown",
   "metadata": {},
   "source": [
    "Loops allow us to run a particular block of code repeatedly, without having to copy-and-paste over and over. Let's take an example where our game doesn't end until we have at least 100 points."
   ]
  },
  {
   "cell_type": "code",
   "execution_count": null,
   "metadata": {
    "collapsed": false
   },
   "outputs": [],
   "source": [
    "score = 0\n",
    "while score < 100:\n",
    "    print('Your score is currently', score)\n",
    "    print('How many points should I add?')\n",
    "    score = score + int(input())\n",
    "print('The game has ended! Your score is', score)"
   ]
  },
  {
   "cell_type": "markdown",
   "metadata": {},
   "source": [
    "What happened there? When Python saw the `while` line, it evaluated the condition (`score < 100`), and for as long as the answer was `True`, it ran the loop. At the end of each iteration over the loop, it went back and checked the condition again. As soon as the condition was `False`, the loop stopped, and continued below the loop.\n",
    "\n",
    "**How did it know which lines were part of the loop??**\n",
    "\n",
    "Remember we said indentation is important? All the indented lines are part of the loop, and as soon as the lines go back to the normal indentation, Python knows the loop has ended.\n",
    "\n",
    "**What do you think would happen if the condition were `False` to begin with?**"
   ]
  },
  {
   "cell_type": "markdown",
   "metadata": {},
   "source": [
    "## `for` Loops"
   ]
  },
  {
   "cell_type": "code",
   "execution_count": null,
   "metadata": {
    "collapsed": false
   },
   "outputs": [],
   "source": [
    "# Let's say we've been tracking the times we gained points. \n",
    "# We've kept a list of how many points we gained each time.\n",
    "points_list = [10, 7, 4, 16, 29]\n",
    "\n",
    "# Now that we have our list of points gained, let's add them all to our score.\n",
    "for points in points_list:\n",
    "    score = score + points\n",
    "    \n",
    "print(\"Your new score is\", score)"
   ]
  },
  {
   "cell_type": "markdown",
   "metadata": {},
   "source": [
    "This one is a little more complex, but it makes sense once we walk through it. When we say \"for points in points_list\", we're telling Python to look at each item in points_list, one by one, call it \"points\", do the code that's indented, and then go back and do it again with the next item."
   ]
  },
  {
   "cell_type": "markdown",
   "metadata": {},
   "source": [
    "# Functions\n",
    "Loops let us run the same piece of code multiple times in a row, but what if we want to come back to a bit of code after we've done something else for a while? Functions are pieces of code that we want to be able to run again later. Functions are defined using the `def` keyword."
   ]
  },
  {
   "cell_type": "code",
   "execution_count": null,
   "metadata": {
    "collapsed": true
   },
   "outputs": [],
   "source": [
    "def say_hi():\n",
    "    print('Hi everyone!')"
   ]
  },
  {
   "cell_type": "markdown",
   "metadata": {},
   "source": [
    "If you tried running the above code block, then you may have wondered why you didn't see any output. That's because we defined the function, but we haven't called it yet. Before you run the code block below, you will need to have run the one above. Let's see how calling a function works:"
   ]
  },
  {
   "cell_type": "code",
   "execution_count": null,
   "metadata": {
    "collapsed": false
   },
   "outputs": [],
   "source": [
    "say_hi()"
   ]
  },
  {
   "cell_type": "markdown",
   "metadata": {},
   "source": [
    "But the real value of a function is to avoid having to repeat the same code over and over again. It's a little contrived, but here's an example of where we can avoid having to re-use the same code over and over."
   ]
  },
  {
   "cell_type": "code",
   "execution_count": null,
   "metadata": {
    "collapsed": false
   },
   "outputs": [],
   "source": [
    "say_hi()\n",
    "print('Let me tell you a little story.')\n",
    "print('I have a friend named Lola. Say hi, Lola!')\n",
    "say_hi()\n",
    "print('Lola was walking down the street, and she came across a little girl.')\n",
    "print('The little girl would stand on top of every bench she came across and call out:')\n",
    "say_hi()\n",
    "print('This made Lola smile the rest of the day.')"
   ]
  },
  {
   "cell_type": "markdown",
   "metadata": {
    "collapsed": true
   },
   "source": [
    "## Parameters\n",
    "Another very important purpose of functions is their ability to do the same thing to different inputs. When we give a function information that we want it to use, we call that information a parameter. Let's take a look at an example of passing parameters to functions."
   ]
  },
  {
   "cell_type": "code",
   "execution_count": null,
   "metadata": {
    "collapsed": false
   },
   "outputs": [],
   "source": [
    "def say_hi_to_someone(name):\n",
    "    print('Hi ' + name + '!')\n",
    "    \n",
    "say_hi_to_someone('Moana')\n",
    "say_hi_to_someone('Heihei')\n",
    "print(\"What's your name?\")\n",
    "say_hi_to_someone(input())"
   ]
  },
  {
   "cell_type": "markdown",
   "metadata": {},
   "source": [
    "## Return values\n",
    "So far, we've only printed things within the functions we've written. Usually, though, your code won't use `print()` all that much. It's useful when you want instant feedback about what something does, but it's not usually what we use in our programs. Most functions return something instead."
   ]
  },
  {
   "cell_type": "code",
   "execution_count": null,
   "metadata": {
    "collapsed": false
   },
   "outputs": [],
   "source": [
    "def change_score(old_score, new_points):\n",
    "    new_score = old_score + new_points\n",
    "    return new_score\n",
    "\n",
    "print(\"score before calling function:\", score)\n",
    "\n",
    "some_new_variable = change_score(score, 7)\n",
    "\n",
    "print(\"score after calling function:\", score)\n",
    "print(\"our new variable, which is the function output:\", some_new_variable)"
   ]
  },
  {
   "cell_type": "markdown",
   "metadata": {},
   "source": [
    "Notice that `score` didn't change. We did get the sum, but it was the result of the function, so we had to assign it to a variable in order to keep it. If we wanted `score` to change, we could do that this way:"
   ]
  },
  {
   "cell_type": "code",
   "execution_count": null,
   "metadata": {
    "collapsed": true
   },
   "outputs": [],
   "source": [
    "score = change_score(score, 7)"
   ]
  },
  {
   "cell_type": "markdown",
   "metadata": {},
   "source": [
    "## Scope\n",
    "Now that we're using functions, the concept of scope becomes a lot more important. The basic idea is that a variable is only accessible in a particular context (its scope). Let's look at a few examples of scope, by causing (and fixing!) some errors."
   ]
  },
  {
   "cell_type": "code",
   "execution_count": null,
   "metadata": {
    "collapsed": false
   },
   "outputs": [],
   "source": [
    "def my_function(some_parameter):\n",
    "    new_variable = some_parameter + 1\n",
    "    \n",
    "#my_function(7)\n",
    "print(new_variable)"
   ]
  },
  {
   "cell_type": "markdown",
   "metadata": {},
   "source": [
    "We defined `new_variable` in `my_function` but we can't access it outside the function. That's outside its scope. Even if you call the function (just remove the '#' from before the function call) before trying to use it, you can't. It's only available inside the function. The same thing can happen in the opposite direction:"
   ]
  },
  {
   "cell_type": "code",
   "execution_count": null,
   "metadata": {
    "collapsed": false
   },
   "outputs": [],
   "source": [
    "outside_the_function = 'some string'\n",
    "\n",
    "def new_function():\n",
    "    outside_the_function += ' and then some'\n",
    "    \n",
    "new_function()"
   ]
  },
  {
   "cell_type": "markdown",
   "metadata": {},
   "source": [
    "But not always:"
   ]
  },
  {
   "cell_type": "code",
   "execution_count": null,
   "metadata": {
    "collapsed": false
   },
   "outputs": [],
   "source": [
    "outside_the_function = 'some string'\n",
    "\n",
    "def new_function():\n",
    "    print(outside_the_function)\n",
    "    \n",
    "new_function()"
   ]
  },
  {
   "cell_type": "markdown",
   "metadata": {},
   "source": [
    "Here, Python is trying to guess what you meant. It's cool that Python is able to help us out, but _**do not rely on it!!**_ I only mention this because I encourage new programmers to try things out to see what they do as a way of learning. This is one of those cases where you might try something out and think \"Oh, cool, I get how that works\" but yet you'd be wrong. Python doesn't have many of those. This is one."
   ]
  },
  {
   "cell_type": "markdown",
   "metadata": {},
   "source": [
    "## Best Practices: Scope\n",
    "It's always, always, always your best bet that, if you need something in a function, you pass it as a parameter. It may seem like some extra typing if it would work otherwise, but trust me, you don't want to ever assume that something is available if you didn't pass it. That's a great way to get really, really tricky bugs in your code."
   ]
  },
  {
   "cell_type": "markdown",
   "metadata": {},
   "source": [
    "## Mutable Types\n",
    "One more note before we finish with the topic of scope:\n",
    "Python types (remember those?) fall into two categories, mutable and immutable. The most common mutable types you'll use are lists and dictionaries, whereas numeric types and strings are immutable. This can be a tricky concept for new programmers, so let's use an analogy.\n",
    "\n",
    "Picture variable names as the cards you might see in front of dishes on a buffet, labeling them for convenience. Except, instead of labeling food, we're labeling data. If we tell Python `score = 9`, it takes one of those cards, writes \"score\" on it, and puts it in front of the 9. If we then say `score = 10`, then it moves that card to sit in front of the 10.\n",
    "\n",
    "This works a little differently with mutable types. If we define `scores = {'Moana':10, 'Maui':1}`, then Python creates a `dict` object and puts our \"scores\" namecard in front of that dictionary. If we then say `scores['Heihei'] = 2` then Python doesn't move that card, it changes (or \"mutates\", hence \"mutable\" types) the dictionary, so that now `scores` contains `{'Moana':10, 'Maui':1, 'Heihei':2}`.\n",
    "\n",
    "So why does this matter? Mostly, it matters when we point a new namecard at the same mutable type. Let's look at some code to illustrate:"
   ]
  },
  {
   "cell_type": "code",
   "execution_count": null,
   "metadata": {
    "collapsed": false
   },
   "outputs": [],
   "source": [
    "# Immutable types\n",
    "score = 9\n",
    "points = score\n",
    "print('Score:', score)\n",
    "print('Points:', points)\n",
    "score = score + 1\n",
    "print('Score:', score)\n",
    "print('Points:', points)"
   ]
  },
  {
   "cell_type": "code",
   "execution_count": null,
   "metadata": {
    "collapsed": false
   },
   "outputs": [],
   "source": [
    "# Mutable types\n",
    "scores = {'Moana': 10, 'Maui': 1}\n",
    "points = scores\n",
    "print('Scores:', scores)\n",
    "print('Points:', points)\n",
    "scores['Heihei'] = 2\n",
    "print('Scores:', scores)\n",
    "print('Points:', points)"
   ]
  },
  {
   "cell_type": "markdown",
   "metadata": {},
   "source": [
    "Not quite the same thing! In the first case, we set the \"points\" namecard in front of the same 9 that the \"score\" namecard was already in front of. When we changed the value of \"score\", the value of \"points\" didn't change, because we moved the namecard. But in the second case, instead of moving the namecard, we changed the thing the namecard was sitting in front of, so the value of `points` changed just like the value of `scores` did.\n",
    "\n",
    "We can move the namecards with these mutable types, though:"
   ]
  },
  {
   "cell_type": "code",
   "execution_count": null,
   "metadata": {
    "collapsed": false
   },
   "outputs": [],
   "source": [
    "scores = {'Moana': 10, 'Maui': 1}\n",
    "points = scores\n",
    "print('Scores:', scores)\n",
    "print('Points:', points)\n",
    "scores = {'Moana':10, 'Maui':1, 'Heihei':2}\n",
    "print('Scores:', scores)\n",
    "print('Points:', points)"
   ]
  },
  {
   "cell_type": "markdown",
   "metadata": {},
   "source": [
    "In this case, we moved the \"scores\" namecard to a new dictionary we created, instead of changing the one we had, so the dictionary that \"points\" was sitting in front of didn't change.\n",
    "\n",
    "We can also force `points` to use its own dictionary from the beginning, like so:"
   ]
  },
  {
   "cell_type": "code",
   "execution_count": null,
   "metadata": {
    "collapsed": false
   },
   "outputs": [],
   "source": [
    "scores = {'Moana': 10, 'Maui': 1}\n",
    "points = scores.copy()\n",
    "print('Scores:', scores)\n",
    "print('Points:', points)\n",
    "scores['Heihei'] = 2\n",
    "print('Scores:', scores)\n",
    "print('Points:', points)"
   ]
  },
  {
   "cell_type": "markdown",
   "metadata": {},
   "source": [
    "In this case, we told Python when we first created the \"points\" namecard that we wanted it to be in front of an object that was a copy of the object \"scores\" was in front of. This means that when we changed `scores`, it didn't change `points` at the same time.\n",
    "\n",
    "Let's look at an example of a way that this often trips up new programmers:"
   ]
  },
  {
   "cell_type": "code",
   "execution_count": null,
   "metadata": {
    "collapsed": false
   },
   "outputs": [],
   "source": [
    "def find_duplicates(some_list):\n",
    "    not_duplicated = []\n",
    "    for element in some_list:\n",
    "        if some_list.count(element) < 2:\n",
    "            not_duplicated.append(element)\n",
    "    for element in not_duplicated:\n",
    "        some_list.remove(element)\n",
    "    # Now some_list contains only the elements that were duplicated. The 'set' type in Python can only contain\n",
    "    # one copy of each value, so we'll convert to a set so that we only have one copy of each.\n",
    "    return set(some_list)\n",
    "\n",
    "my_list = [1, 1, 2, 3, 4, 4, 5]  # 1 and 4 are duplicated, 2, 3, and 5 occur only once\n",
    "print(find_duplicates(my_list))"
   ]
  },
  {
   "cell_type": "code",
   "execution_count": null,
   "metadata": {
    "collapsed": false
   },
   "outputs": [],
   "source": [
    "# Here's where it can trip you up, though:\n",
    "print(my_list)"
   ]
  },
  {
   "cell_type": "markdown",
   "metadata": {},
   "source": [
    "Even though we passed my_list as a parameter to our function, and even gave it a different name in the function, that \"some_list\" namecard was simply set in front of the same list that the \"my_list\" namecard was set in front of. So when we changed the contents of `some_list`, the contents of `my_list` were also changed. We can fix this with one small change, though:"
   ]
  },
  {
   "cell_type": "code",
   "execution_count": null,
   "metadata": {
    "collapsed": false
   },
   "outputs": [],
   "source": [
    "def find_duplicates(some_list):\n",
    "    # One new line!\n",
    "    some_list = some_list.copy()\n",
    "    \n",
    "    not_duplicated = []\n",
    "    for element in some_list:\n",
    "        if some_list.count(element) < 2:\n",
    "            not_duplicated.append(element)\n",
    "    for element in not_duplicated:\n",
    "        some_list.remove(element)\n",
    "    # Now some_list contains only the elements that were duplicated. The 'set' type in Python can only contain\n",
    "    # one copy of each value, so we'll convert to a set so that we only have one copy of each.\n",
    "    return set(some_list)\n",
    "\n",
    "my_list = [1, 1, 2, 3, 4, 4, 5]  # 1 and 4 are duplicated, 2, 3, and 5 occur only once\n",
    "print(find_duplicates(my_list))\n",
    "print(my_list)"
   ]
  },
  {
   "cell_type": "markdown",
   "metadata": {},
   "source": [
    "# Summary\n",
    "These are the bare bones of programming in Python; enough to get you started. Python is generally a very readable language, as you may have noticed with functions like \"copy\" and \"remove\" and \"count\", which basically do what they seem to say they would. It can certainly get complex, but it doesn't have to. Play with it, find example code, tweak the example code. Here are some takeaways to keep in mind as you learn more:\n",
    "\n",
    "## Pay attention to the errors\n",
    "At first, those errors (\"tracebacks\") will probably seem pretty intimidating. But in fact, they often lead you right to the source of the problem. The ones we saw here were fairly short, but sometimes these will get really long. In general, the line you need will either be the first one listed or the last one listed. In the cases when that isn't true, it's usually most helpful to look at the file names from each line and find the ones that are files you wrote. In most cases, the error isn't in the Python code, even though sometimes Python files or library files will be included in the traceback. If you look just at the lines that point to code you wrote, it'll help you figure out what you can do differently to make your code work.\n",
    "\n",
    "## Try things out and see what happens\n",
    "Some people find themselves feeling like they need to look up the answers before they can use something. For example, maybe you noticed our `scores['Heihei'] = 2` line that we used, to add a value to our dictionary, and find yourself wondering \"what happens if I did that with a key that was already there?\" (ie, `scores['Maui'] = 2`) \"Would it add a new one or change the existing one?\" You certainly could google that, and you would find the answer. But with Python, it's so easy to just change the code and try it that I usually recommend just trying it out. \n",
    "\n",
    "## Use example code to get started\n",
    "There is LOTS of example Python code out there. You can download or copy example code, run it on your own computer, and change things to see what different things do. This is a great way to learn.\n",
    "\n",
    "## Pay attention to versions\n",
    "For this example, you didn't have to install anything on your computer. You were using the Python version that I had installed on the server (which was Python 3.6, by the way). Most newer code is being written in Python 3, so I wouldn't recommend trying to learn Python 2 unless you specifically need it for some reason. It's going to no longer be supported as of 2020, which means security issues or bugs will gradually be discovered and go unpatched. Python 3, on the other hand, will continue to be actively maintained. Some older code examples, though, may be in Python 2. Keep an eye out as you look for resources, and if something doesn't work, check your versions first.\n",
    "\n",
    "## Google is your friend\n",
    "You'll often be able to search for things that you're trying to do and find answers. Some of the places that a lot of your answers will pop up will be python.org or stackoverflow.com. python.org sometimes uses a lot of terminology that can seem like a foreign language, but you'll pick it up as you go. If the text seems confusing, try to learn from the examples they have, or, having found a command that looks like what you need, do a new search using the name of the command, and you'll find more beginner-friendly explanations."
   ]
  },
  {
   "cell_type": "markdown",
   "metadata": {},
   "source": [
    "# Exercises\n",
    "Try these challenges to stretch your new Python wings. Some will require you to learn about things that Python can do that we didn't explicitly mention here. If you get stuck on one, try another one. They aren't in any particular order.\n",
    "\n",
    "- Write code that will tell someone how many characters are in the text they just entered.\n",
    "- Write code that will print out the first 5 prime numbers.\n",
    "- Write a function that will take a number as an input, and find the smallest prime number that's bigger than the input.\n",
    "- Use a dictionary to define a phonebook, and then an input that lets the user type in a name and get the corresponding phone number.\n",
    "- Write a guess-the-number game, where the computer chooses a random number between 1 and 100. It should ask the user for guesses, and tell the user if they need to guess higher or lower, until the user guesses the number.\n",
    "- Write the opposite guess-the-number game, where the user picks a random number. The computer should guess, and the user should tell the computer whether the guess is too high, too low, or exactly right.\n",
    "- Write a mad-libs style activity, where the computer asks the user for nouns, adjectives, and verbs, and then inserts them into pre-defined text to generate a story."
   ]
  },
  {
   "cell_type": "code",
   "execution_count": null,
   "metadata": {
    "collapsed": true
   },
   "outputs": [],
   "source": []
  }
 ],
 "metadata": {
  "anaconda-cloud": {},
  "kernelspec": {
   "display_name": "Python [Root]",
   "language": "python",
   "name": "Python [Root]"
  },
  "language_info": {
   "codemirror_mode": {
    "name": "ipython",
    "version": 3
   },
   "file_extension": ".py",
   "mimetype": "text/x-python",
   "name": "python",
   "nbconvert_exporter": "python",
   "pygments_lexer": "ipython3",
   "version": "3.5.2"
  }
 },
 "nbformat": 4,
 "nbformat_minor": 1
}
